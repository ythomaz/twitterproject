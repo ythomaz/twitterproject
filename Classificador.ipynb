{
 "cells": [
  {
   "cell_type": "code",
   "execution_count": 1,
   "id": "c9072b99",
   "metadata": {},
   "outputs": [],
   "source": [
    "import pandas as pd\n",
    "from sklearn.model_selection import train_test_split\n",
    "from sklearn.linear_model import LogisticRegression\n",
    "from sklearn.feature_extraction.text import TfidfVectorizer\n",
    "from nltk import ngrams"
   ]
  },
  {
   "cell_type": "code",
   "execution_count": 2,
   "id": "6b74eefa",
   "metadata": {},
   "outputs": [],
   "source": [
    "tweets = pd.read_csv('dados/TweetsWithTheme.csv')"
   ]
  },
  {
   "cell_type": "code",
   "execution_count": 3,
   "id": "9b20777e",
   "metadata": {},
   "outputs": [],
   "source": [
    "classificacao = tweets.sentiment.replace(['Negativo', 'Positivo'], [0,1])\n",
    "tweets['classificacao'] = classificacao"
   ]
  },
  {
   "cell_type": "code",
   "execution_count": 4,
   "id": "3071354b",
   "metadata": {},
   "outputs": [
    {
     "data": {
      "text/plain": [
       "0.7554227821795039"
      ]
     },
     "execution_count": 4,
     "metadata": {},
     "output_type": "execute_result"
    }
   ],
   "source": [
    "tfidf_vetorizar = TfidfVectorizer(lowercase=False, ngram_range = (1,2), max_features=1000)\n",
    "vetores = tfidf_vetorizar.fit_transform(tweets.tweet_text)\n",
    "\n",
    "treino, teste, classe_treino, classe_teste = train_test_split(vetores, \n",
    "                                                          tweets.classificacao, random_state = 11)\n",
    "\n",
    "logistic_regression = LogisticRegression()\n",
    "logistic_regression.fit(treino, classe_treino)\n",
    "logistic_regression.score(teste, classe_teste)"
   ]
  },
  {
   "cell_type": "code",
   "execution_count": 5,
   "id": "1d71c2ae",
   "metadata": {},
   "outputs": [],
   "source": [
    "from joblib import dump, load"
   ]
  },
  {
   "cell_type": "code",
   "execution_count": 6,
   "id": "5ca94b84",
   "metadata": {},
   "outputs": [
    {
     "data": {
      "text/plain": [
       "['classificador.joblib']"
      ]
     },
     "execution_count": 6,
     "metadata": {},
     "output_type": "execute_result"
    }
   ],
   "source": [
    "dump(logistic_regression, 'classificador.joblib')"
   ]
  },
  {
   "cell_type": "code",
   "execution_count": null,
   "id": "d87d90b4",
   "metadata": {},
   "outputs": [],
   "source": []
  }
 ],
 "metadata": {
  "kernelspec": {
   "display_name": "Python 3 (ipykernel)",
   "language": "python",
   "name": "python3"
  },
  "language_info": {
   "codemirror_mode": {
    "name": "ipython",
    "version": 3
   },
   "file_extension": ".py",
   "mimetype": "text/x-python",
   "name": "python",
   "nbconvert_exporter": "python",
   "pygments_lexer": "ipython3",
   "version": "3.9.12"
  }
 },
 "nbformat": 4,
 "nbformat_minor": 5
}
